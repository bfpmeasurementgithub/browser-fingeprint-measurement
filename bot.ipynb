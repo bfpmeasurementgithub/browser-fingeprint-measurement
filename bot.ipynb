{
 "cells": [
  {
   "cell_type": "code",
   "execution_count": null,
   "metadata": {},
   "outputs": [],
   "source": [
    "import matplotlib\n",
    "import numpy as np\n",
    "import matplotlib.pyplot as plt\n",
    "import numpy as np\n",
    "import csv\n",
    "from matplotlib import colors\n",
    "from matplotlib.ticker import PercentFormatter\n",
    "from matplotlib import gridspec\n",
    "\n",
    "\n",
    "\n",
    "import csv\n",
    "import pandas as pd\n",
    "import sys\n",
    "import time"
   ]
  },
  {
   "cell_type": "code",
   "execution_count": null,
   "metadata": {},
   "outputs": [],
   "source": [
    "'''\n",
    "The file is like \n",
    "\n",
    "'_timestamp', 'family', 'family_1', 'tel_isAttack', 'tel_attackCause', 'ip',\n",
    "'asn', 'unifiedbfp1', 'ua', 'timezone', 'headersfp', 'plugins', 'donottrack', \n",
    "'fonts', 'canvas', 'vendor', 'renderer', 'scree', 'devicePixelRatio'\n",
    "\n",
    "'''"
   ]
  },
  {
   "cell_type": "code",
   "execution_count": null,
   "metadata": {},
   "outputs": [],
   "source": [
    "attck_file = open('../bot.csv','r',newline='',encoding='utf-8')\n",
    "attack_reader_lines = csv.reader(x.replace('\\0', '') for x in attck_file)\n",
    "val = 0\n",
    "tel_isAttack = set()\n",
    "dic = {}\n",
    "for raw_data in attack_reader_lines:\n",
    "    if val <= 1:\n",
    "        print(raw_data)\n",
    "        val += 1\n",
    "    else:\n",
    "        if raw_data[1] not in dic:\n",
    "            dic[raw_data[1]] = {}\n",
    "        if raw_data[3] not in dic[raw_data[1]]:\n",
    "            dic[raw_data[1]][raw_data[3]] = 1\n",
    "        else:\n",
    "            dic[raw_data[1]][raw_data[3]] += 1\n",
    "    "
   ]
  },
  {
   "cell_type": "code",
   "execution_count": null,
   "metadata": {},
   "outputs": [],
   "source": [
    "attck_file = open('../bot.csv','r',newline='',encoding='utf-8')\n",
    "attack_reader_lines = csv.reader(x.replace('\\0', '') for x in attck_file)\n",
    "dic = {}\n",
    "i = 6\n",
    "for raw_data in attack_reader_lines:\n",
    "    if raw_data[1] == 'Demoname':\n",
    "        if raw_data[3] not in dic:\n",
    "            dic[raw_data[3]] = {}\n",
    "        if raw_data[i] not in dic[raw_data[3]]:\n",
    "            dic[raw_data[3]][raw_data[i]] = 1\n",
    "        else:\n",
    "            dic[raw_data[3]][raw_data[i]] += 1\n",
    "new_dic = {}\n",
    "for ele in dic['false']:\n",
    "    new_dic[ele] = [dic['false'][ele], 0]\n",
    "for ele in dic['true']:\n",
    "    if ele in new_dic:\n",
    "        new_dic[ele][1] = dic['true'][ele]\n",
    "    else:\n",
    "        new_dic[ele] = [0, dic['true'][ele]]\n",
    "print(new_dic)\n",
    "create = 0\n",
    "for key in new_dic:\n",
    "    if new_dic[key][0] == 0:\n",
    "        create += new_dic[key][1]\n",
    "print(create)\n",
    "print(268/549, 213/693, 161/693)"
   ]
  },
  {
   "cell_type": "code",
   "execution_count": null,
   "metadata": {},
   "outputs": [],
   "source": [
    "attck_file = open('../bot.csv','r',newline='',encoding='utf-8')\n",
    "attack_reader_lines = csv.reader(x.replace('\\0', '') for x in attck_file)\n",
    "dic = {}\n",
    "for raw_data in attack_reader_lines:\n",
    "#     print(raw_data[1])\n",
    "    if raw_data[1] == 'Demoname':\n",
    "        if raw_data[3] not in dic:\n",
    "            dic[raw_data[3]] = {}\n",
    "        if raw_data[2] not in dic[raw_data[3]]:\n",
    "            dic[raw_data[3]][raw_data[2]] = 1\n",
    "        else:\n",
    "            dic[raw_data[3]][raw_data[2]] += 1\n",
    "dic"
   ]
  },
  {
   "cell_type": "code",
   "execution_count": null,
   "metadata": {},
   "outputs": [],
   "source": [
    "attck_file = open('../bot.csv','r',newline='',encoding='utf-8')\n",
    "attack_reader_lines = csv.reader(x.replace('\\0', '') for x in attck_file)\n",
    "dic = {}\n",
    "i = 6\n",
    "for raw_data in attack_reader_lines:\n",
    "#     print(raw_data[1])\n",
    "    if raw_data[1] == 'Demoname':\n",
    "        if raw_data[3] not in dic:\n",
    "            dic[raw_data[3]] = {}\n",
    "        if raw_data[i] not in dic[raw_data[3]]:\n",
    "            dic[raw_data[3]][raw_data[i]] = 1\n",
    "        else:\n",
    "            dic[raw_data[3]][raw_data[i]] += 1\n",
    "dic"
   ]
  },
  {
   "cell_type": "code",
   "execution_count": null,
   "metadata": {},
   "outputs": [],
   "source": [
    "attck_file = open('../bot.csv','r',newline='',encoding='utf-8')\n",
    "attack_reader_lines = csv.reader(x.replace('\\0', '') for x in attck_file)\n",
    "dic = {}\n",
    "i = 17\n",
    "for raw_data in attack_reader_lines:\n",
    "#     print(raw_data[1])\n",
    "    if raw_data[1] == 'Demoname':\n",
    "        if raw_data[3] not in dic:\n",
    "            dic[raw_data[3]] = {}\n",
    "        if raw_data[i] not in dic[raw_data[3]]:\n",
    "            dic[raw_data[3]][raw_data[i]] = 1\n",
    "        else:\n",
    "            dic[raw_data[3]][raw_data[i]] += 1\n",
    "new_dic = {}\n",
    "for ele in dic['false']:\n",
    "    new_dic[ele] = [dic['false'][ele], 0]\n",
    "for ele in dic['true']:\n",
    "    if ele in new_dic:\n",
    "        new_dic[ele][1] = dic['true'][ele]\n",
    "    else:\n",
    "        new_dic[ele] = [0, dic['true'][ele]]\n",
    "new_dic\n"
   ]
  },
  {
   "cell_type": "code",
   "execution_count": null,
   "metadata": {},
   "outputs": [],
   "source": [
    "normal_sum = 0\n",
    "attack_sum = 0\n",
    "for key in new_dic:\n",
    "    normal_sum += new_dic[key][0]\n",
    "    attack_sum += new_dic[key][1]\n",
    "print(normal_sum, attack_sum)\n",
    "for key in new_dic:\n",
    "    new_dic[key] = [new_dic[key][0]/ normal_sum,new_dic[key][1]/attack_sum ]\n",
    "new_dic"
   ]
  },
  {
   "cell_type": "code",
   "execution_count": null,
   "metadata": {},
   "outputs": [],
   "source": [
    "create = 0\n",
    "for key in new_dic:\n",
    "    if new_dic[key][0] == 0:\n",
    "        create += new_dic[key][1]\n",
    "create\n",
    "    "
   ]
  },
  {
   "cell_type": "code",
   "execution_count": null,
   "metadata": {},
   "outputs": [],
   "source": [
    "attck_file = open('../bot.csv','r',newline='',encoding='utf-8')\n",
    "attack_reader_lines = csv.reader(x.replace('\\0', '') for x in attck_file)\n",
    "dic = {}\n",
    "i = 7\n",
    "for raw_data in attack_reader_lines:\n",
    "#     print(raw_data[1])\n",
    "    if raw_data[1] == 'Demoname':\n",
    "        if raw_data[3] not in dic:\n",
    "            dic[raw_data[3]] = {}\n",
    "        if raw_data[i] not in dic[raw_data[3]]:\n",
    "            dic[raw_data[3]][raw_data[i]] = 1\n",
    "        else:\n",
    "            dic[raw_data[3]][raw_data[i]] += 1\n",
    "dic"
   ]
  },
  {
   "cell_type": "code",
   "execution_count": null,
   "metadata": {},
   "outputs": [],
   "source": [
    "attck_file = open('../bot.csv','r',newline='',encoding='utf-8')\n",
    "attack_reader_lines = csv.reader(x.replace('\\0', '') for x in attck_file)\n",
    "dic = {}\n",
    "i = 8\n",
    "for raw_data in attack_reader_lines:\n",
    "#     print(raw_data[1])\n",
    "    if raw_data[1] == 'Demoname':\n",
    "        if raw_data[3] not in dic:\n",
    "            dic[raw_data[3]] = {}\n",
    "        if raw_data[i] not in dic[raw_data[3]]:\n",
    "            dic[raw_data[3]][raw_data[i]] = 1\n",
    "        else:\n",
    "            dic[raw_data[3]][raw_data[i]] += 1\n",
    "for ele in dic:\n",
    "    print(ele)\n",
    "    t = sorted(dic[ele].items(), key = lambda i:-i[1])\n",
    "    for i in t:\n",
    "        print(i)\n",
    "    print('================================================================================')\n",
    "new_dic = {}\n",
    "for ele in dic['false']:\n",
    "    new_dic[ele] = [dic['false'][ele], 0]\n",
    "for ele in dic['true']:\n",
    "    if ele in new_dic:\n",
    "        new_dic[ele][1] = dic['true'][ele]\n",
    "    else:\n",
    "        new_dic[ele] = [0, dic['true'][ele]]"
   ]
  }
 ],
 "metadata": {
  "kernelspec": {
   "display_name": "Python 3 (ipykernel)",
   "language": "python",
   "name": "python3"
  },
  "language_info": {
   "codemirror_mode": {
    "name": "ipython",
    "version": 3
   },
   "file_extension": ".py",
   "mimetype": "text/x-python",
   "name": "python",
   "nbconvert_exporter": "python",
   "pygments_lexer": "ipython3",
   "version": "3.7.3"
  }
 },
 "nbformat": 4,
 "nbformat_minor": 4
}
