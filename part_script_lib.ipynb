{
 "cells": [
  {
   "cell_type": "code",
   "execution_count": null,
   "metadata": {},
   "outputs": [],
   "source": [
    "import pandas as pd\n",
    "import os\n",
    "import glob\n",
    "import matplotlib\n",
    "import numpy as np\n",
    "import matplotlib.pyplot as plt\n",
    "import numpy as np\n",
    "import csv\n",
    "from matplotlib import colors\n",
    "from matplotlib.ticker import PercentFormatter\n",
    "from matplotlib import gridspec\n",
    "\n",
    "\n",
    "\n",
    "import csv\n",
    "import pandas as pd\n",
    "import sys\n",
    "import time\n",
    "  \n"
   ]
  },
  {
   "cell_type": "code",
   "execution_count": null,
   "metadata": {},
   "outputs": [],
   "source": [
    "'''\n",
    "The file is like \n",
    "\n",
    "ua,num_total_post,num_attack_post,num_total_get,num_attack_get\n",
    "\n",
    "In this file, we can not show all library, we just show part\n",
    "of name \n",
    "'''"
   ]
  },
  {
   "cell_type": "code",
   "execution_count": null,
   "metadata": {},
   "outputs": [],
   "source": [
    "# use glob to get all the csv files \n",
    "# in the folder\n",
    "path = os.getcwd()\n",
    "csv_files = glob.glob(os.path.join(path, \"*.csv\"))\n",
    "lib = {}\n",
    "for name in csv_files:\n",
    "#     print(name)\n",
    "    attck_file = open(name,'r',newline='')\n",
    "    attack_reader_lines = csv.reader(x.replace('\\0', '') for x in attck_file)\n",
    "    for raw_data in attack_reader_lines:\n",
    "        if raw_data[0] == 'ua':\n",
    "            continue\n",
    "        if raw_data[0] not in lib:\n",
    "            lib[raw_data[0]] = [int(raw_data[1]) + int(raw_data[3]), int(raw_data[2]) + int(raw_data[4])]\n",
    "        else:\n",
    "            lib[raw_data[0]][0] += int(raw_data[1]) + int(raw_data[3])\n",
    "            lib[raw_data[0]][1] += int(raw_data[2]) + int(raw_data[4])\n",
    "for name in lib:\n",
    "    print(name, lib[name])\n",
    "            \n",
    "  \n"
   ]
  },
  {
   "cell_type": "code",
   "execution_count": null,
   "metadata": {},
   "outputs": [],
   "source": [
    "ver_requests = [0,0,0]\n",
    "ver_requests_cp = [0,0,0]\n",
    "ver_urllib3 = [0,0,0]\n",
    "ver_httpx = [0,0,0]\n",
    "ver_ask = [0,0,0]\n",
    "ver_Mozilla = [0,0,0]\n",
    "for name in lib:\n",
    "    if 'requests' in name:\n",
    "        if 'CPython' in name:\n",
    "            ver_requests_cp[0] += 1\n",
    "            ver_requests_cp[1] += lib[name][0]\n",
    "            ver_requests_cp[2] += lib[name][1]\n",
    "        else:  \n",
    "            ver_requests[0] += 1\n",
    "            ver_requests[1] += lib[name][0]\n",
    "            ver_requests[2] += lib[name][1]\n",
    "    if 'urllib3' in name:\n",
    "        ver_urllib3[0] += 1\n",
    "        ver_urllib3[1] += lib[name][0]\n",
    "        ver_urllib3[2] += lib[name][1]\n",
    "    if 'httpx' in name:\n",
    "        ver_httpx[0] += 1\n",
    "        ver_httpx[1] += lib[name][0]\n",
    "        ver_httpx[2] += lib[name][1]\n",
    "    if 'ask' in name:\n",
    "        ver_ask[0] += 1\n",
    "        ver_ask[1] += lib[name][0]\n",
    "        ver_ask[2] += lib[name][1]"
   ]
  },
  {
   "cell_type": "code",
   "execution_count": null,
   "metadata": {},
   "outputs": [],
   "source": [
    "print(ver_requests_cp,ver_requests,ver_urllib3,ver_httpx,ver_ask)"
   ]
  }
 ],
 "metadata": {
  "kernelspec": {
   "display_name": "Python 3 (ipykernel)",
   "language": "python",
   "name": "python3"
  },
  "language_info": {
   "codemirror_mode": {
    "name": "ipython",
    "version": 3
   },
   "file_extension": ".py",
   "mimetype": "text/x-python",
   "name": "python",
   "nbconvert_exporter": "python",
   "pygments_lexer": "ipython3",
   "version": "3.7.3"
  }
 },
 "nbformat": 4,
 "nbformat_minor": 4
}
